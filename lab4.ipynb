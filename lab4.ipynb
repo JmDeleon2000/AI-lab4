{
 "cells": [
  {
   "cell_type": "code",
   "execution_count": 97,
   "metadata": {},
   "outputs": [],
   "source": [
    "import numpy as np\n",
    "from sklearn.datasets import make_classification\n",
    "from matplotlib import pyplot as plt\n",
    "\n",
    "\n"
   ]
  },
  {
   "cell_type": "code",
   "execution_count": 121,
   "metadata": {},
   "outputs": [
    {
     "data": {
      "text/plain": [
       "(50,)"
      ]
     },
     "execution_count": 121,
     "metadata": {},
     "output_type": "execute_result"
    }
   ],
   "source": [
    "n_features = 3\n",
    "n_samples = 50\n",
    "\n",
    "\n",
    "input, output = make_classification(n_samples = n_samples, n_features = n_features, n_informative = 3,\n",
    "n_redundant = 0, n_classes = 2,\n",
    "random_state = 0)\n"
   ]
  },
  {
   "cell_type": "code",
   "execution_count": 99,
   "metadata": {},
   "outputs": [],
   "source": [
    "def sigmoid(x, deriv=False):\n",
    "    if deriv == True:\n",
    "        return x * (1 - x)\n",
    "    return 1 / (1 + np.exp(-x))"
   ]
  },
  {
   "cell_type": "code",
   "execution_count": 141,
   "metadata": {},
   "outputs": [],
   "source": [
    "class NN_Model:\n",
    "    def __init__(self, input, output):\n",
    "        self.weights = np.random.random_sample(size = (input.shape[1], input.shape[0])) \n",
    "        self.input = input\n",
    "        self.output = output\n",
    "\n",
    "    def feedforward(self):\n",
    "        self.hidden = sigmoid(np.dot(self.input, self.weights))\n",
    "\n",
    "\n",
    "    def backpropagation(self):\n",
    "        error = self.output - self.hidden\n",
    "        delta = error * sigmoid(self.hidden, deriv=True)\n",
    "        self.weights += np.dot(self.input.T, delta)\n",
    "        return error\n",
    "    \n",
    "    def train(self, epochs = 100):\n",
    "        self.error_history = []\n",
    "        for i in range(epochs):\n",
    "            self.feedforward()\n",
    "            error = self.backpropagation()\n",
    "            self.error_history.append(np.average(np.abs(error)))\n",
    "\n",
    "    def predict(self, data):\n",
    "        return sigmoid(np.dot(data, self.weights))"
   ]
  },
  {
   "cell_type": "code",
   "execution_count": 142,
   "metadata": {},
   "outputs": [],
   "source": [
    "Model = NN_Model(input, output)\n",
    "Model.train(epochs = 1000)\n"
   ]
  },
  {
   "cell_type": "code",
   "execution_count": 143,
   "metadata": {},
   "outputs": [
    {
     "data": {
      "image/png": "[encoded data removed]",
      "text/plain": [
       "<Figure size 1440x576 with 1 Axes>"
      ]
     },
     "metadata": {
      "needs_background": "light"
     },
     "output_type": "display_data"
    }
   ],
   "source": [
    "epochs = list(range(len(Model.error_history)))\n",
    "plt.figure(figsize = (20, 8))\n",
    "plt.plot(epochs, Model.error_history)\n",
    "plt.show()"
   ]
  },
  {
   "cell_type": "code",
   "execution_count": 145,
   "metadata": {},
   "outputs": [
    {
     "data": {
      "text/plain": [
       "(1, 50)"
      ]
     },
     "execution_count": 145,
     "metadata": {},
     "output_type": "execute_result"
    }
   ],
   "source": [
    "test = np.array([[1, 0, 1]])\n",
    "result = Model.predict(test)\n",
    "result.shape"
   ]
  }
 ],
 "metadata": {
  "interpreter": {
   "hash": "ac59ebe37160ed0dfa835113d9b8498d9f09ceb179beaac4002f036b9467c963"
  },
  "kernelspec": {
   "display_name": "Python 3.9.4 64-bit",
   "language": "python",
   "name": "python3"
  },
  "language_info": {
   "codemirror_mode": {
    "name": "ipython",
    "version": 3
   },
   "file_extension": ".py",
   "mimetype": "text/x-python",
   "name": "python",
   "nbconvert_exporter": "python",
   "pygments_lexer": "ipython3",
   "version": "3.9.4"
  },
  "orig_nbformat": 4
 },
 "nbformat": 4,
 "nbformat_minor": 2
}
