{
 "cells": [
  {
   "cell_type": "code",
   "execution_count": 2,
   "metadata": {},
   "outputs": [],
   "source": [
    "import numpy as np\n",
    "from sklearn.datasets import make_classification\n",
    "from matplotlib import pyplot as plt\n",
    "\n",
    "\n"
   ]
  },
  {
   "cell_type": "code",
   "execution_count": 3,
   "metadata": {},
   "outputs": [],
   "source": [
    "n_features = 3\n",
    "n_samples = 50\n",
    "n_hidden_layers = 1\n",
    "\n",
    "input, output = make_classification(n_samples = n_samples, n_features = n_features, n_informative = 3,\n",
    "n_redundant = 0, n_classes = 2,\n",
    "random_state = 0)\n"
   ]
  },
  {
   "cell_type": "code",
   "execution_count": 4,
   "metadata": {},
   "outputs": [],
   "source": [
    "weights = []\n",
    "hidden_layers = []\n",
    "for i in range(n_hidden_layers):\n",
    "    weights.append( np.random.random_sample(size = (n_features, n_samples)) )\n",
    "    hidden_layers.append( np.zeros(shape = (n_hidden_layers, n_features)) )\n"
   ]
  },
  {
   "cell_type": "code",
   "execution_count": 5,
   "metadata": {},
   "outputs": [],
   "source": [
    "def sigmoid(x, deriv=False):\n",
    "    if deriv == True:\n",
    "        return x * (1 - x)\n",
    "    return 1 / (1 + np.exp(-x))"
   ]
  },
  {
   "cell_type": "code",
   "execution_count": 6,
   "metadata": {},
   "outputs": [],
   "source": [
    "def feedforward():\n",
    "    for i, weight in enumerate(weights):\n",
    "        hidden_layers[i] = sigmoid(np.dot(input, weight))\n"
   ]
  },
  {
   "cell_type": "code",
   "execution_count": 7,
   "metadata": {},
   "outputs": [],
   "source": [
    "def backpropagation():\n",
    "    error = np.zeros(n_hidden_layers)\n",
    "    for i, layer in enumerate(hidden_layers):\n",
    "        error[i] = output - layer\n",
    "        delta = error * sigmoid(layer, deriv = True)\n",
    "        weights[i] += np.dot(input.T, delta)\n",
    "    return error\n"
   ]
  },
  {
   "cell_type": "code",
   "execution_count": 8,
   "metadata": {},
   "outputs": [],
   "source": [
    "error_history = []\n",
    "def train(epochs = 100):\n",
    "    for i in range(epochs):\n",
    "        feedforward()\n",
    "        error = backpropagation()\n",
    "        error_history.append(np.average(np.abs(error)))\n"
   ]
  },
  {
   "cell_type": "code",
   "execution_count": 9,
   "metadata": {},
   "outputs": [],
   "source": [
    "test = np.array([[1, 0, 1]])\n",
    "train()\n",
    "#for i, weight in enumerate(weights):\n",
    "#    hidden_layers[i] = sigmoid(np.dot(input, weight))\n",
    "#prediction = sigmoid()"
   ]
  }
 ],
 "metadata": {
  "interpreter": {
   "hash": "ac59ebe37160ed0dfa835113d9b8498d9f09ceb179beaac4002f036b9467c963"
  },
  "kernelspec": {
   "display_name": "Python 3.9.4 64-bit",
   "language": "python",
   "name": "python3"
  },
  "language_info": {
   "codemirror_mode": {
    "name": "ipython",
    "version": 3
   },
   "file_extension": ".py",
   "mimetype": "text/x-python",
   "name": "python",
   "nbconvert_exporter": "python",
   "pygments_lexer": "ipython3",
   "version": "3.9.4"
  },
  "orig_nbformat": 4
 },
 "nbformat": 4,
 "nbformat_minor": 2
}
