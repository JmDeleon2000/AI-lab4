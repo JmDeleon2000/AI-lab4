{
 "cells": [
  {
   "cell_type": "code",
   "execution_count": 232,
   "metadata": {},
   "outputs": [],
   "source": [
    "import numpy as np\n",
    "from sklearn.datasets import make_classification\n",
    "from matplotlib import pyplot as plt\n",
    "\n",
    "\n"
   ]
  },
  {
   "cell_type": "code",
   "execution_count": 233,
   "metadata": {},
   "outputs": [],
   "source": [
    "n_features = 3\n",
    "n_samples = 50\n",
    "\n",
    "\n",
    "input, output = make_classification(n_samples = n_samples, n_features = n_features, n_informative = 3,\n",
    "n_redundant = 0, n_classes = 2,\n",
    "random_state = 0)\n"
   ]
  },
  {
   "cell_type": "code",
   "execution_count": 234,
   "metadata": {},
   "outputs": [],
   "source": [
    "def sigmoid(x, deriv=False):\n",
    "    if deriv == True:\n",
    "        return x * (1 - x)\n",
    "    return 1 / (1 + np.exp(-x))"
   ]
  },
  {
   "cell_type": "code",
   "execution_count": 253,
   "metadata": {},
   "outputs": [],
   "source": [
    "class NN_Model:\n",
    "    def __init__(self, input, output, /, bias = 0, n_layers = 1):\n",
    "        self.weights = np.random.random_sample(size = (input.shape[1], n_layers)) \n",
    "        self.input = input\n",
    "        self.output = output#.reshape(output.shape[0], 1)\n",
    "\n",
    "        self.bias = bias\n",
    "\n",
    "    def feedforward(self):\n",
    "        self.hidden = sigmoid(np.dot(self.input, self.weights) + self.bias) \n",
    "\n",
    "\n",
    "    def backpropagation(self):\n",
    "        error = self.output - self.hidden\n",
    "        delta = error * sigmoid(self.hidden, deriv=True)\n",
    "        self.weights += np.dot(self.input.T, delta)\n",
    "\n",
    "        return error\n",
    "    \n",
    "    def train(self, epochs = 100):\n",
    "        self.error_history = []\n",
    "        for i in range(epochs):\n",
    "            self.feedforward()\n",
    "            error = self.backpropagation()\n",
    "            self.error_history.append(np.average(np.abs(error)))\n",
    "\n",
    "    def predict(self, data):\n",
    "        return sigmoid(np.dot(data, self.weights))"
   ]
  },
  {
   "cell_type": "code",
   "execution_count": 293,
   "metadata": {},
   "outputs": [],
   "source": [
    "np.random.seed(123)\n",
    "Model = NN_Model(input, output, bias = 0.2, n_layers = 50)\n",
    "Model.train(epochs = 15)\n"
   ]
  },
  {
   "cell_type": "code",
   "execution_count": 299,
   "metadata": {},
   "outputs": [
    {
     "data": {
      "image/png": "[encoded data removed]",
      "text/plain": [
       "<Figure size 1440x576 with 1 Axes>"
      ]
     },
     "metadata": {
      "needs_background": "light"
     },
     "output_type": "display_data"
    }
   ],
   "source": [
    "epochs = list(range(len(Model.error_history)))\n",
    "plt.figure(figsize = (20, 8))\n",
    "plt.plot(epochs, Model.error_history)\n",
    "plt.xlabel('Época')\n",
    "plt.ylabel('Error')\n",
    "plt.show()"
   ]
  },
  {
   "cell_type": "code",
   "execution_count": 300,
   "metadata": {},
   "outputs": [
    {
     "data": {
      "text/plain": [
       "0.7073647018727742"
      ]
     },
     "execution_count": 300,
     "metadata": {},
     "output_type": "execute_result"
    }
   ],
   "source": [
    "test = np.array([[1, 0, 1]])\n",
    "results = Model.predict(test)\n",
    "results[0:,[49]][0][0]"
   ]
  }
 ],
 "metadata": {
  "interpreter": {
   "hash": "ac59ebe37160ed0dfa835113d9b8498d9f09ceb179beaac4002f036b9467c963"
  },
  "kernelspec": {
   "display_name": "Python 3.9.4 64-bit",
   "language": "python",
   "name": "python3"
  },
  "language_info": {
   "codemirror_mode": {
    "name": "ipython",
    "version": 3
   },
   "file_extension": ".py",
   "mimetype": "text/x-python",
   "name": "python",
   "nbconvert_exporter": "python",
   "pygments_lexer": "ipython3",
   "version": "3.9.4"
  },
  "orig_nbformat": 4
 },
 "nbformat": 4,
 "nbformat_minor": 2
}
